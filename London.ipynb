{
 "cells": [
  {
   "cell_type": "code",
   "execution_count": 1,
   "metadata": {},
   "outputs": [],
   "source": [
    "#%install_ext https://raw.github.com/cpcloud/ipython-autotime/master/autotime.py\n",
    "%load_ext autotime\n",
    "import osmnx as ox, geopandas as gpd, pandas as pd, networkx as nx\n",
    "import numpy as np\n",
    "import matplotlib.pyplot as plt\n",
    "from shapely.geometry import Point, LineString, Polygon, MultiPolygon\n",
    "from IPython.display import Image\n",
    "from descartes import PolygonPatch\n",
    "from itertools import combinations, combinations_with_replacement\n",
    "%matplotlib inline\n",
    "ox.config(log_console=True, use_cache=True)\n",
    "%config IPCompleter.greedy=True\n",
    "\n",
    "import libpysal as lp"
   ]
  },
  {
   "cell_type": "code",
   "execution_count": 2,
   "metadata": {},
   "outputs": [
    {
     "data": {
      "image/png": "[encoded data removed]",
      "text/plain": [
       "<Figure size 288x288 with 1 Axes>"
      ]
     },
     "metadata": {
      "needs_background": "light"
     },
     "output_type": "display_data"
    },
    {
     "name": "stdout",
     "output_type": "stream",
     "text": [
      "{'init': 'epsg:4326'}\n"
     ]
    },
    {
     "data": {
      "text/plain": [
       "<matplotlib.axes._subplots.AxesSubplot at 0x1e119d1a550>"
      ]
     },
     "execution_count": 2,
     "metadata": {},
     "output_type": "execute_result"
    },
    {
     "data": {
      "image/png": "[encoded data removed]",
      "text/plain": [
       "<Figure size 432x288 with 1 Axes>"
      ]
     },
     "metadata": {
      "needs_background": "light"
     },
     "output_type": "display_data"
    },
    {
     "name": "stdout",
     "output_type": "stream",
     "text": [
      "time: 1.82 s\n"
     ]
    }
   ],
   "source": [
    "city = ox.gdf_from_place('London, UK', which_result=2)\n",
    "#city = ox.project_gdf(city)\n",
    "fig, ax = ox.plot_shape(city, figsize=(4,4))\n",
    "ox.save_gdf_shapefile(city)\n",
    "crs = {'init': 'epsg:4326'}\n",
    "city = city.to_crs(crs)\n",
    "print(city.crs)\n",
    "city.plot()"
   ]
  },
  {
   "cell_type": "code",
   "execution_count": 15,
   "metadata": {},
   "outputs": [
    {
     "data": {
      "text/html": [
       "<div>\n",
       "<style scoped>\n",
       "    .dataframe tbody tr th:only-of-type {\n",
       "        vertical-align: middle;\n",
       "    }\n",
       "\n",
       "    .dataframe tbody tr th {\n",
       "        vertical-align: top;\n",
       "    }\n",
       "\n",
       "    .dataframe thead th {\n",
       "        text-align: right;\n",
       "    }\n",
       "</style>\n",
       "<table border=\"1\" class=\"dataframe\">\n",
       "  <thead>\n",
       "    <tr style=\"text-align: right;\">\n",
       "      <th></th>\n",
       "      <th>id</th>\n",
       "      <th>name</th>\n",
       "      <th>host_id</th>\n",
       "      <th>host_name</th>\n",
       "      <th>neighbourhood_group</th>\n",
       "      <th>neighbourhood</th>\n",
       "      <th>latitude</th>\n",
       "      <th>longitude</th>\n",
       "      <th>room_type</th>\n",
       "      <th>price</th>\n",
       "      <th>minimum_nights</th>\n",
       "      <th>number_of_reviews</th>\n",
       "      <th>last_review</th>\n",
       "      <th>reviews_per_month</th>\n",
       "      <th>calculated_host_listings_count</th>\n",
       "      <th>availability_365</th>\n",
       "    </tr>\n",
       "  </thead>\n",
       "  <tbody>\n",
       "    <tr>\n",
       "      <th>0</th>\n",
       "      <td>11551</td>\n",
       "      <td>Arty and Bright London Apartment in Zone 2</td>\n",
       "      <td>43039</td>\n",
       "      <td>Adriano</td>\n",
       "      <td>NaN</td>\n",
       "      <td>Lambeth</td>\n",
       "      <td>51.46225</td>\n",
       "      <td>-0.11732</td>\n",
       "      <td>Entire home/apt</td>\n",
       "      <td>88</td>\n",
       "      <td>2</td>\n",
       "      <td>184</td>\n",
       "      <td>2019-07-10</td>\n",
       "      <td>1.59</td>\n",
       "      <td>2</td>\n",
       "      <td>344</td>\n",
       "    </tr>\n",
       "    <tr>\n",
       "      <th>1</th>\n",
       "      <td>13913</td>\n",
       "      <td>Holiday London DB Room Let-on going</td>\n",
       "      <td>54730</td>\n",
       "      <td>Alina</td>\n",
       "      <td>NaN</td>\n",
       "      <td>Islington</td>\n",
       "      <td>51.56802</td>\n",
       "      <td>-0.11121</td>\n",
       "      <td>Private room</td>\n",
       "      <td>65</td>\n",
       "      <td>1</td>\n",
       "      <td>16</td>\n",
       "      <td>2019-06-10</td>\n",
       "      <td>0.14</td>\n",
       "      <td>3</td>\n",
       "      <td>353</td>\n",
       "    </tr>\n",
       "    <tr>\n",
       "      <th>2</th>\n",
       "      <td>15400</td>\n",
       "      <td>Bright Chelsea  Apartment. Chelsea!</td>\n",
       "      <td>60302</td>\n",
       "      <td>Philippa</td>\n",
       "      <td>NaN</td>\n",
       "      <td>Kensington and Chelsea</td>\n",
       "      <td>51.48796</td>\n",
       "      <td>-0.16898</td>\n",
       "      <td>Entire home/apt</td>\n",
       "      <td>100</td>\n",
       "      <td>30</td>\n",
       "      <td>87</td>\n",
       "      <td>2019-08-27</td>\n",
       "      <td>0.73</td>\n",
       "      <td>1</td>\n",
       "      <td>114</td>\n",
       "    </tr>\n",
       "    <tr>\n",
       "      <th>3</th>\n",
       "      <td>17402</td>\n",
       "      <td>Superb 3-Bed/2 Bath &amp; Wifi: Trendy W1</td>\n",
       "      <td>67564</td>\n",
       "      <td>Liz</td>\n",
       "      <td>NaN</td>\n",
       "      <td>Westminster</td>\n",
       "      <td>51.52098</td>\n",
       "      <td>-0.14002</td>\n",
       "      <td>Entire home/apt</td>\n",
       "      <td>300</td>\n",
       "      <td>3</td>\n",
       "      <td>41</td>\n",
       "      <td>2019-06-19</td>\n",
       "      <td>0.40</td>\n",
       "      <td>15</td>\n",
       "      <td>265</td>\n",
       "    </tr>\n",
       "    <tr>\n",
       "      <th>4</th>\n",
       "      <td>24328</td>\n",
       "      <td>Battersea bedroom &amp; office w parking shared ga...</td>\n",
       "      <td>41759</td>\n",
       "      <td>Joe</td>\n",
       "      <td>NaN</td>\n",
       "      <td>Wandsworth</td>\n",
       "      <td>51.47298</td>\n",
       "      <td>-0.16376</td>\n",
       "      <td>Entire home/apt</td>\n",
       "      <td>175</td>\n",
       "      <td>30</td>\n",
       "      <td>93</td>\n",
       "      <td>2019-06-08</td>\n",
       "      <td>0.86</td>\n",
       "      <td>1</td>\n",
       "      <td>346</td>\n",
       "    </tr>\n",
       "  </tbody>\n",
       "</table>\n",
       "</div>"
      ],
      "text/plain": [
       "      id                                               name  host_id  \\\n",
       "0  11551         Arty and Bright London Apartment in Zone 2    43039   \n",
       "1  13913                Holiday London DB Room Let-on going    54730   \n",
       "2  15400                Bright Chelsea  Apartment. Chelsea!    60302   \n",
       "3  17402              Superb 3-Bed/2 Bath & Wifi: Trendy W1    67564   \n",
       "4  24328  Battersea bedroom & office w parking shared ga...    41759   \n",
       "\n",
       "  host_name  neighbourhood_group           neighbourhood  latitude  longitude  \\\n",
       "0   Adriano                  NaN                 Lambeth  51.46225   -0.11732   \n",
       "1     Alina                  NaN               Islington  51.56802   -0.11121   \n",
       "2  Philippa                  NaN  Kensington and Chelsea  51.48796   -0.16898   \n",
       "3       Liz                  NaN             Westminster  51.52098   -0.14002   \n",
       "4       Joe                  NaN              Wandsworth  51.47298   -0.16376   \n",
       "\n",
       "         room_type  price  minimum_nights  number_of_reviews last_review  \\\n",
       "0  Entire home/apt     88               2                184  2019-07-10   \n",
       "1     Private room     65               1                 16  2019-06-10   \n",
       "2  Entire home/apt    100              30                 87  2019-08-27   \n",
       "3  Entire home/apt    300               3                 41  2019-06-19   \n",
       "4  Entire home/apt    175              30                 93  2019-06-08   \n",
       "\n",
       "   reviews_per_month  calculated_host_listings_count  availability_365  \n",
       "0               1.59                               2               344  \n",
       "1               0.14                               3               353  \n",
       "2               0.73                               1               114  \n",
       "3               0.40                              15               265  \n",
       "4               0.86                               1               346  "
      ]
     },
     "execution_count": 15,
     "metadata": {},
     "output_type": "execute_result"
    },
    {
     "name": "stdout",
     "output_type": "stream",
     "text": [
      "time: 321 ms\n"
     ]
    }
   ],
   "source": [
    "data = pd.read_csv('data/Airbnb_London.csv', header=0)\n",
    "data.head()"
   ]
  },
  {
   "cell_type": "code",
   "execution_count": 17,
   "metadata": {},
   "outputs": [
    {
     "data": {
      "image/png": "[encoded data removed]",
      "text/plain": [
       "<Figure size 432x288 with 1 Axes>"
      ]
     },
     "metadata": {
      "needs_background": "light"
     },
     "output_type": "display_data"
    },
    {
     "name": "stdout",
     "output_type": "stream",
     "text": [
      "time: 1.3 s\n"
     ]
    }
   ],
   "source": [
    "data = data[data.room_type=='Entire home/apt']\n",
    "plt.hist(data.price, bins=100)\n",
    "plt.show()"
   ]
  },
  {
   "cell_type": "code",
   "execution_count": 19,
   "metadata": {},
   "outputs": [
    {
     "data": {
      "text/plain": [
       "1317"
      ]
     },
     "execution_count": 19,
     "metadata": {},
     "output_type": "execute_result"
    },
    {
     "name": "stdout",
     "output_type": "stream",
     "text": [
      "time: 13 ms\n"
     ]
    }
   ],
   "source": [
    "len(data[data.price>500])"
   ]
  },
  {
   "cell_type": "code",
   "execution_count": 14,
   "metadata": {},
   "outputs": [
    {
     "name": "stdout",
     "output_type": "stream",
     "text": [
      "47116\n"
     ]
    },
    {
     "data": {
      "text/html": [
       "<div>\n",
       "<style scoped>\n",
       "    .dataframe tbody tr th:only-of-type {\n",
       "        vertical-align: middle;\n",
       "    }\n",
       "\n",
       "    .dataframe tbody tr th {\n",
       "        vertical-align: top;\n",
       "    }\n",
       "\n",
       "    .dataframe thead th {\n",
       "        text-align: right;\n",
       "    }\n",
       "</style>\n",
       "<table border=\"1\" class=\"dataframe\">\n",
       "  <thead>\n",
       "    <tr style=\"text-align: right;\">\n",
       "      <th></th>\n",
       "      <th>id</th>\n",
       "      <th>latitude</th>\n",
       "      <th>longitude</th>\n",
       "      <th>price</th>\n",
       "    </tr>\n",
       "  </thead>\n",
       "  <tbody>\n",
       "    <tr>\n",
       "      <th>0</th>\n",
       "      <td>11551</td>\n",
       "      <td>51.46225</td>\n",
       "      <td>-0.11732</td>\n",
       "      <td>88</td>\n",
       "    </tr>\n",
       "    <tr>\n",
       "      <th>2</th>\n",
       "      <td>15400</td>\n",
       "      <td>51.48796</td>\n",
       "      <td>-0.16898</td>\n",
       "      <td>100</td>\n",
       "    </tr>\n",
       "    <tr>\n",
       "      <th>3</th>\n",
       "      <td>17402</td>\n",
       "      <td>51.52098</td>\n",
       "      <td>-0.14002</td>\n",
       "      <td>300</td>\n",
       "    </tr>\n",
       "    <tr>\n",
       "      <th>4</th>\n",
       "      <td>24328</td>\n",
       "      <td>51.47298</td>\n",
       "      <td>-0.16376</td>\n",
       "      <td>175</td>\n",
       "    </tr>\n",
       "    <tr>\n",
       "      <th>5</th>\n",
       "      <td>25023</td>\n",
       "      <td>51.44687</td>\n",
       "      <td>-0.21874</td>\n",
       "      <td>65</td>\n",
       "    </tr>\n",
       "  </tbody>\n",
       "</table>\n",
       "</div>"
      ],
      "text/plain": [
       "      id  latitude  longitude  price\n",
       "0  11551  51.46225   -0.11732     88\n",
       "2  15400  51.48796   -0.16898    100\n",
       "3  17402  51.52098   -0.14002    300\n",
       "4  24328  51.47298   -0.16376    175\n",
       "5  25023  51.44687   -0.21874     65"
      ]
     },
     "execution_count": 14,
     "metadata": {},
     "output_type": "execute_result"
    },
    {
     "name": "stdout",
     "output_type": "stream",
     "text": [
      "time: 477 ms\n"
     ]
    }
   ],
   "source": [
    "data = pd.read_csv('data/Airbnb_London.csv', header=0)\n",
    "data = data[data.room_type=='Entire home/apt']\n",
    "data.dropna()\n",
    "data = data[['id','latitude', 'longitude', 'price']]\n",
    "print(len(data))\n",
    "data.head()"
   ]
  },
  {
   "cell_type": "code",
   "execution_count": 4,
   "metadata": {},
   "outputs": [
    {
     "name": "stdout",
     "output_type": "stream",
     "text": [
      "data max index: 15879\n",
      "number of NA prices: 0\n",
      "time: 3 ms\n"
     ]
    }
   ],
   "source": [
    "data.reset_index(drop=True, inplace=True)\n",
    "print(\"data max index:\", data.index.max())\n",
    "print(\"number of NA prices:\", data.price.isna().sum())"
   ]
  },
  {
   "cell_type": "code",
   "execution_count": 5,
   "metadata": {},
   "outputs": [
    {
     "data": {
      "text/html": [
       "<div>\n",
       "<style scoped>\n",
       "    .dataframe tbody tr th:only-of-type {\n",
       "        vertical-align: middle;\n",
       "    }\n",
       "\n",
       "    .dataframe tbody tr th {\n",
       "        vertical-align: top;\n",
       "    }\n",
       "\n",
       "    .dataframe thead th {\n",
       "        text-align: right;\n",
       "    }\n",
       "</style>\n",
       "<table border=\"1\" class=\"dataframe\">\n",
       "  <thead>\n",
       "    <tr style=\"text-align: right;\">\n",
       "      <th></th>\n",
       "      <th>geometry</th>\n",
       "      <th>center_lon</th>\n",
       "      <th>center_lat</th>\n",
       "    </tr>\n",
       "  </thead>\n",
       "  <tbody>\n",
       "    <tr>\n",
       "      <th>10729</th>\n",
       "      <td>POLYGON ((-0.3172432074423089 51.4959948032922...</td>\n",
       "      <td>-0.314997</td>\n",
       "      <td>51.493769</td>\n",
       "    </tr>\n",
       "    <tr>\n",
       "      <th>10730</th>\n",
       "      <td>POLYGON ((-0.3127517680806068 51.5093502098856...</td>\n",
       "      <td>-0.310506</td>\n",
       "      <td>51.507124</td>\n",
       "    </tr>\n",
       "    <tr>\n",
       "      <th>10731</th>\n",
       "      <td>POLYGON ((-0.3127517680806068 51.5048984076878...</td>\n",
       "      <td>-0.310506</td>\n",
       "      <td>51.502673</td>\n",
       "    </tr>\n",
       "    <tr>\n",
       "      <th>10732</th>\n",
       "      <td>POLYGON ((-0.3127517680806068 51.5004466054900...</td>\n",
       "      <td>-0.310506</td>\n",
       "      <td>51.498221</td>\n",
       "    </tr>\n",
       "    <tr>\n",
       "      <th>10733</th>\n",
       "      <td>POLYGON ((-0.3127517680806068 51.4959948032922...</td>\n",
       "      <td>-0.310506</td>\n",
       "      <td>51.493769</td>\n",
       "    </tr>\n",
       "  </tbody>\n",
       "</table>\n",
       "</div>"
      ],
      "text/plain": [
       "                                                geometry  center_lon  \\\n",
       "10729  POLYGON ((-0.3172432074423089 51.4959948032922...   -0.314997   \n",
       "10730  POLYGON ((-0.3127517680806068 51.5093502098856...   -0.310506   \n",
       "10731  POLYGON ((-0.3127517680806068 51.5048984076878...   -0.310506   \n",
       "10732  POLYGON ((-0.3127517680806068 51.5004466054900...   -0.310506   \n",
       "10733  POLYGON ((-0.3127517680806068 51.4959948032922...   -0.310506   \n",
       "\n",
       "       center_lat  \n",
       "10729   51.493769  \n",
       "10730   51.507124  \n",
       "10731   51.502673  \n",
       "10732   51.498221  \n",
       "10733   51.493769  "
      ]
     },
     "execution_count": 5,
     "metadata": {},
     "output_type": "execute_result"
    },
    {
     "name": "stdout",
     "output_type": "stream",
     "text": [
      "time: 22.3 s\n"
     ]
    }
   ],
   "source": [
    "geometry = [Point(xy) for xy in zip(data.longitude, data.latitude)]\n",
    "#data = data.drop(['longitude', 'latitude'], axis=1)\n",
    "crs = {'init': 'epsg:4326'}\n",
    "gdf = gpd.GeoDataFrame(data, crs=crs, geometry=geometry)\n",
    "\n",
    "meter_500 = 0.00899928/2\n",
    "\n",
    "\n",
    "# make the geometry a multipolygon if it's not already\n",
    "geometry = city['geometry'].iloc[0]\n",
    "if isinstance(geometry, Polygon):\n",
    "    geometry = MultiPolygon([geometry])\n",
    "    \n",
    "# quadrat_width is in the units the geometry is in, so we'll do a tenth of a degree\n",
    "geometry_cut = ox.quadrat_cut_geometry(geometry, quadrat_width=meter_500)\n",
    "\n",
    "city['coords'] = city['geometry'].apply(lambda x: x.representative_point().coords[:])\n",
    "city['coords'] = [coords[0] for coords in city['coords']]\n",
    "\n",
    "polylist = [p for p in geometry_cut]\n",
    "\n",
    "polyframe = gpd.GeoDataFrame(geometry=polylist)\n",
    "polyframe.crs = city.geometry.crs\n",
    "polyframe['center_lon'] = polyframe['geometry'].apply(lambda x: x.centroid.coords[0][0])\n",
    "polyframe['center_lat'] = polyframe['geometry'].apply(lambda x: x.centroid.coords[0][1])\n",
    "polyframe.tail()"
   ]
  },
  {
   "cell_type": "code",
   "execution_count": 6,
   "metadata": {},
   "outputs": [
    {
     "data": {
      "text/html": [
       "<div>\n",
       "<style scoped>\n",
       "    .dataframe tbody tr th:only-of-type {\n",
       "        vertical-align: middle;\n",
       "    }\n",
       "\n",
       "    .dataframe tbody tr th {\n",
       "        vertical-align: top;\n",
       "    }\n",
       "\n",
       "    .dataframe thead th {\n",
       "        text-align: right;\n",
       "    }\n",
       "</style>\n",
       "<table border=\"1\" class=\"dataframe\">\n",
       "  <thead>\n",
       "    <tr style=\"text-align: right;\">\n",
       "      <th></th>\n",
       "      <th>id</th>\n",
       "      <th>latitude</th>\n",
       "      <th>longitude</th>\n",
       "      <th>price</th>\n",
       "      <th>geometry</th>\n",
       "    </tr>\n",
       "  </thead>\n",
       "  <tbody>\n",
       "    <tr>\n",
       "      <th>0</th>\n",
       "      <td>25428</td>\n",
       "      <td>52.37297</td>\n",
       "      <td>4.88339</td>\n",
       "      <td>125</td>\n",
       "      <td>POINT (4.88339 52.37297)</td>\n",
       "    </tr>\n",
       "    <tr>\n",
       "      <th>1</th>\n",
       "      <td>31080</td>\n",
       "      <td>52.35132</td>\n",
       "      <td>4.84838</td>\n",
       "      <td>219</td>\n",
       "      <td>POINT (4.848380000000001 52.35132)</td>\n",
       "    </tr>\n",
       "    <tr>\n",
       "      <th>2</th>\n",
       "      <td>43109</td>\n",
       "      <td>52.37537</td>\n",
       "      <td>4.88932</td>\n",
       "      <td>210</td>\n",
       "      <td>POINT (4.88932 52.37537)</td>\n",
       "    </tr>\n",
       "    <tr>\n",
       "      <th>3</th>\n",
       "      <td>43980</td>\n",
       "      <td>52.35746</td>\n",
       "      <td>4.86124</td>\n",
       "      <td>100</td>\n",
       "      <td>POINT (4.86124 52.35746)</td>\n",
       "    </tr>\n",
       "    <tr>\n",
       "      <th>4</th>\n",
       "      <td>44391</td>\n",
       "      <td>52.37017</td>\n",
       "      <td>4.91438</td>\n",
       "      <td>240</td>\n",
       "      <td>POINT (4.91438 52.37017)</td>\n",
       "    </tr>\n",
       "  </tbody>\n",
       "</table>\n",
       "</div>"
      ],
      "text/plain": [
       "      id  latitude  longitude  price                            geometry\n",
       "0  25428  52.37297    4.88339    125            POINT (4.88339 52.37297)\n",
       "1  31080  52.35132    4.84838    219  POINT (4.848380000000001 52.35132)\n",
       "2  43109  52.37537    4.88932    210            POINT (4.88932 52.37537)\n",
       "3  43980  52.35746    4.86124    100            POINT (4.86124 52.35746)\n",
       "4  44391  52.37017    4.91438    240            POINT (4.91438 52.37017)"
      ]
     },
     "execution_count": 6,
     "metadata": {},
     "output_type": "execute_result"
    },
    {
     "name": "stdout",
     "output_type": "stream",
     "text": [
      "time: 18 ms\n"
     ]
    }
   ],
   "source": [
    "gdf.head()"
   ]
  },
  {
   "cell_type": "code",
   "execution_count": 13,
   "metadata": {},
   "outputs": [
    {
     "data": {
      "text/plain": [
       "{'init': 'epsg:4326'}"
      ]
     },
     "execution_count": 13,
     "metadata": {},
     "output_type": "execute_result"
    },
    {
     "name": "stdout",
     "output_type": "stream",
     "text": [
      "time: 2 ms\n"
     ]
    }
   ],
   "source": [
    "gdf.crs"
   ]
  },
  {
   "cell_type": "code",
   "execution_count": 7,
   "metadata": {},
   "outputs": [
    {
     "name": "stdout",
     "output_type": "stream",
     "text": [
      "pointinpoly length: 0\n",
      "time: 1.85 s\n"
     ]
    }
   ],
   "source": [
    "pointInPoly = gpd.sjoin(polyframe, gdf, op='contains')\n",
    "print(\"pointinpoly length:\",len(pointInPoly))"
   ]
  },
  {
   "cell_type": "code",
   "execution_count": 8,
   "metadata": {},
   "outputs": [
    {
     "name": "stdout",
     "output_type": "stream",
     "text": [
      "time: 4 ms\n"
     ]
    }
   ],
   "source": [
    "#pointInPoly.sort_values(['PlateID', 'Time'], inplace=True)\n",
    "pointInPoly['index'] = pointInPoly.index\n",
    "pointInPoly.reset_index(drop=True, inplace=True)"
   ]
  },
  {
   "cell_type": "code",
   "execution_count": 11,
   "metadata": {},
   "outputs": [
    {
     "data": {
      "text/html": [
       "<div>\n",
       "<style scoped>\n",
       "    .dataframe tbody tr th:only-of-type {\n",
       "        vertical-align: middle;\n",
       "    }\n",
       "\n",
       "    .dataframe tbody tr th {\n",
       "        vertical-align: top;\n",
       "    }\n",
       "\n",
       "    .dataframe thead th {\n",
       "        text-align: right;\n",
       "    }\n",
       "</style>\n",
       "<table border=\"1\" class=\"dataframe\">\n",
       "  <thead>\n",
       "    <tr style=\"text-align: right;\">\n",
       "      <th></th>\n",
       "      <th>geometry</th>\n",
       "      <th>center_lon</th>\n",
       "      <th>center_lat</th>\n",
       "      <th>index_right</th>\n",
       "      <th>id</th>\n",
       "      <th>latitude</th>\n",
       "      <th>longitude</th>\n",
       "      <th>price</th>\n",
       "      <th>index</th>\n",
       "    </tr>\n",
       "  </thead>\n",
       "  <tbody>\n",
       "  </tbody>\n",
       "</table>\n",
       "</div>"
      ],
      "text/plain": [
       "Empty GeoDataFrame\n",
       "Columns: [geometry, center_lon, center_lat, index_right, id, latitude, longitude, price, index]\n",
       "Index: []"
      ]
     },
     "execution_count": 11,
     "metadata": {},
     "output_type": "execute_result"
    },
    {
     "name": "stdout",
     "output_type": "stream",
     "text": [
      "time: 8 ms\n"
     ]
    }
   ],
   "source": [
    "pointInPoly.head()"
   ]
  },
  {
   "cell_type": "code",
   "execution_count": 9,
   "metadata": {},
   "outputs": [
    {
     "name": "stdout",
     "output_type": "stream",
     "text": [
      "time: 4 ms\n"
     ]
    }
   ],
   "source": [
    "present_ind = list(pointInPoly['index_right'])\n",
    "gdf_test_dropped = gdf.iloc[present_ind,:]\n",
    "gdf_dropped = gdf_test_dropped.copy()\n",
    "gdf_dropped.reset_index(drop=True, inplace=True)"
   ]
  },
  {
   "cell_type": "code",
   "execution_count": 10,
   "metadata": {},
   "outputs": [
    {
     "data": {
      "text/html": [
       "<div>\n",
       "<style scoped>\n",
       "    .dataframe tbody tr th:only-of-type {\n",
       "        vertical-align: middle;\n",
       "    }\n",
       "\n",
       "    .dataframe tbody tr th {\n",
       "        vertical-align: top;\n",
       "    }\n",
       "\n",
       "    .dataframe thead th {\n",
       "        text-align: right;\n",
       "    }\n",
       "</style>\n",
       "<table border=\"1\" class=\"dataframe\">\n",
       "  <thead>\n",
       "    <tr style=\"text-align: right;\">\n",
       "      <th></th>\n",
       "      <th>id</th>\n",
       "      <th>latitude</th>\n",
       "      <th>longitude</th>\n",
       "      <th>price</th>\n",
       "      <th>geometry</th>\n",
       "    </tr>\n",
       "  </thead>\n",
       "  <tbody>\n",
       "  </tbody>\n",
       "</table>\n",
       "</div>"
      ],
      "text/plain": [
       "Empty GeoDataFrame\n",
       "Columns: [id, latitude, longitude, price, geometry]\n",
       "Index: []"
      ]
     },
     "execution_count": 10,
     "metadata": {},
     "output_type": "execute_result"
    },
    {
     "name": "stdout",
     "output_type": "stream",
     "text": [
      "time: 12 ms\n"
     ]
    }
   ],
   "source": [
    "gdf_dropped.head()"
   ]
  },
  {
   "cell_type": "code",
   "execution_count": null,
   "metadata": {},
   "outputs": [],
   "source": []
  }
 ],
 "metadata": {
  "kernelspec": {
   "display_name": "Python 3",
   "language": "python",
   "name": "python3"
  },
  "language_info": {
   "codemirror_mode": {
    "name": "ipython",
    "version": 3
   },
   "file_extension": ".py",
   "mimetype": "text/x-python",
   "name": "python",
   "nbconvert_exporter": "python",
   "pygments_lexer": "ipython3",
   "version": "3.7.3"
  }
 },
 "nbformat": 4,
 "nbformat_minor": 2
}
